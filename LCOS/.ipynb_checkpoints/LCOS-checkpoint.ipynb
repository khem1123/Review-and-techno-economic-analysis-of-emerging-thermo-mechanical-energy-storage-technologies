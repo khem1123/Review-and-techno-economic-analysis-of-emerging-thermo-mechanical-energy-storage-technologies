{
 "cells": [
  {
   "cell_type": "markdown",
   "id": "c309d215-0d0e-44a9-9760-a25a6eefdebc",
   "metadata": {},
   "source": [
    "# LCOS Calculator\n",
    "This code is based on Methodology By O. Schmidt, S. Melchior, A. Hawkes, I. Staffell, Projecting the Future Levelized Cost of Electricity Storage Technologies, Joule 3 (1) (2019)81–100.doi:10.1016/j.joule.2018.12.008. \n",
    "The data table for technologies is listed in our paper (Table XXX) \n"
   ]
  },
  {
   "cell_type": "code",
   "execution_count": 1,
   "id": "ab6420be-afcb-4c61-8520-51908b3c8f14",
   "metadata": {},
   "outputs": [
    {
     "data": {
      "text/html": [
       "<div>\n",
       "<style scoped>\n",
       "    .dataframe tbody tr th:only-of-type {\n",
       "        vertical-align: middle;\n",
       "    }\n",
       "\n",
       "    .dataframe tbody tr th {\n",
       "        vertical-align: top;\n",
       "    }\n",
       "\n",
       "    .dataframe thead th {\n",
       "        text-align: right;\n",
       "    }\n",
       "</style>\n",
       "<table border=\"1\" class=\"dataframe\">\n",
       "  <thead>\n",
       "    <tr style=\"text-align: right;\">\n",
       "      <th></th>\n",
       "      <th>Pumped Hydro</th>\n",
       "      <th>CAES (Adiabatic)</th>\n",
       "      <th>Battery (Lithium-ion)</th>\n",
       "      <th>Hydrogen</th>\n",
       "      <th>TES (Molten Salt)</th>\n",
       "      <th>PTES (Rock)</th>\n",
       "      <th>LEAS (Standalone)</th>\n",
       "    </tr>\n",
       "    <tr>\n",
       "      <th>Name</th>\n",
       "      <th></th>\n",
       "      <th></th>\n",
       "      <th></th>\n",
       "      <th></th>\n",
       "      <th></th>\n",
       "      <th></th>\n",
       "      <th></th>\n",
       "    </tr>\n",
       "  </thead>\n",
       "  <tbody>\n",
       "    <tr>\n",
       "      <th>Investment cost - Power</th>\n",
       "      <td>1129.0000</td>\n",
       "      <td>1200.000</td>\n",
       "      <td>156.000</td>\n",
       "      <td>2741.000</td>\n",
       "      <td>1341.000</td>\n",
       "      <td>1300.000</td>\n",
       "      <td>1700.000</td>\n",
       "    </tr>\n",
       "    <tr>\n",
       "      <th>Investment cost - Energy</th>\n",
       "      <td>80.0000</td>\n",
       "      <td>49.000</td>\n",
       "      <td>168.000</td>\n",
       "      <td>15.000</td>\n",
       "      <td>18.030</td>\n",
       "      <td>20.000</td>\n",
       "      <td>40.000</td>\n",
       "    </tr>\n",
       "    <tr>\n",
       "      <th>Operation cost - Power</th>\n",
       "      <td>8.0000</td>\n",
       "      <td>4.000</td>\n",
       "      <td>10.000</td>\n",
       "      <td>24.300</td>\n",
       "      <td>10.000</td>\n",
       "      <td>5.000</td>\n",
       "      <td>6.000</td>\n",
       "    </tr>\n",
       "    <tr>\n",
       "      <th>Operation cost - Energy</th>\n",
       "      <td>1.0000</td>\n",
       "      <td>5.000</td>\n",
       "      <td>3.000</td>\n",
       "      <td>1.000</td>\n",
       "      <td>3.500</td>\n",
       "      <td>5.000</td>\n",
       "      <td>4.000</td>\n",
       "    </tr>\n",
       "    <tr>\n",
       "      <th>Replacement cost</th>\n",
       "      <td>0.0000</td>\n",
       "      <td>0.000</td>\n",
       "      <td>0.000</td>\n",
       "      <td>0.000</td>\n",
       "      <td>0.000</td>\n",
       "      <td>0.000</td>\n",
       "      <td>0.000</td>\n",
       "    </tr>\n",
       "    <tr>\n",
       "      <th>Replacement interval</th>\n",
       "      <td>33250.0000</td>\n",
       "      <td>16250.000</td>\n",
       "      <td>3250.000</td>\n",
       "      <td>200000.000</td>\n",
       "      <td>30000.000</td>\n",
       "      <td>16250.000</td>\n",
       "      <td>16250.000</td>\n",
       "    </tr>\n",
       "    <tr>\n",
       "      <th>End-of-life cost</th>\n",
       "      <td>0.0000</td>\n",
       "      <td>0.000</td>\n",
       "      <td>0.000</td>\n",
       "      <td>0.000</td>\n",
       "      <td>0.000</td>\n",
       "      <td>0.000</td>\n",
       "      <td>0.000</td>\n",
       "    </tr>\n",
       "    <tr>\n",
       "      <th>Discount rate</th>\n",
       "      <td>0.0000</td>\n",
       "      <td>0.000</td>\n",
       "      <td>0.000</td>\n",
       "      <td>0.000</td>\n",
       "      <td>0.000</td>\n",
       "      <td>0.000</td>\n",
       "      <td>0.000</td>\n",
       "    </tr>\n",
       "    <tr>\n",
       "      <th>Round-trip efficiency</th>\n",
       "      <td>0.7800</td>\n",
       "      <td>0.550</td>\n",
       "      <td>0.900</td>\n",
       "      <td>0.400</td>\n",
       "      <td>0.450</td>\n",
       "      <td>0.550</td>\n",
       "      <td>0.500</td>\n",
       "    </tr>\n",
       "    <tr>\n",
       "      <th>Self-discharge</th>\n",
       "      <td>0.0000</td>\n",
       "      <td>0.005</td>\n",
       "      <td>0.010</td>\n",
       "      <td>0.005</td>\n",
       "      <td>0.010</td>\n",
       "      <td>0.010</td>\n",
       "      <td>0.005</td>\n",
       "    </tr>\n",
       "    <tr>\n",
       "      <th>Lifetime</th>\n",
       "      <td>33250.0000</td>\n",
       "      <td>16250.000</td>\n",
       "      <td>3250.000</td>\n",
       "      <td>20000.000</td>\n",
       "      <td>30000.000</td>\n",
       "      <td>16250.000</td>\n",
       "      <td>16250.000</td>\n",
       "    </tr>\n",
       "    <tr>\n",
       "      <th>Shelf life</th>\n",
       "      <td>55.0000</td>\n",
       "      <td>30.000</td>\n",
       "      <td>13.000</td>\n",
       "      <td>18.000</td>\n",
       "      <td>30.000</td>\n",
       "      <td>30.000</td>\n",
       "      <td>30.000</td>\n",
       "    </tr>\n",
       "    <tr>\n",
       "      <th>Time degradation</th>\n",
       "      <td>0.0004</td>\n",
       "      <td>0.007</td>\n",
       "      <td>0.017</td>\n",
       "      <td>0.013</td>\n",
       "      <td>0.009</td>\n",
       "      <td>0.007</td>\n",
       "      <td>0.007</td>\n",
       "    </tr>\n",
       "    <tr>\n",
       "      <th>Cycle degradation</th>\n",
       "      <td>0.0000</td>\n",
       "      <td>0.000</td>\n",
       "      <td>0.000</td>\n",
       "      <td>0.000</td>\n",
       "      <td>0.000</td>\n",
       "      <td>0.000</td>\n",
       "      <td>0.000</td>\n",
       "    </tr>\n",
       "    <tr>\n",
       "      <th>Construction time</th>\n",
       "      <td>3.0000</td>\n",
       "      <td>2.000</td>\n",
       "      <td>1.000</td>\n",
       "      <td>1.000</td>\n",
       "      <td>1.000</td>\n",
       "      <td>1.000</td>\n",
       "      <td>2.000</td>\n",
       "    </tr>\n",
       "  </tbody>\n",
       "</table>\n",
       "</div>"
      ],
      "text/plain": [
       "                          Pumped Hydro  CAES (Adiabatic)  \\\n",
       "Name                                                       \n",
       "Investment cost - Power      1129.0000          1200.000   \n",
       "Investment cost - Energy       80.0000            49.000   \n",
       "Operation cost - Power          8.0000             4.000   \n",
       "Operation cost - Energy         1.0000             5.000   \n",
       "Replacement cost                0.0000             0.000   \n",
       "Replacement interval        33250.0000         16250.000   \n",
       "End-of-life cost                0.0000             0.000   \n",
       "Discount rate                   0.0000             0.000   \n",
       "Round-trip efficiency           0.7800             0.550   \n",
       "Self-discharge                  0.0000             0.005   \n",
       "Lifetime                    33250.0000         16250.000   \n",
       "Shelf life                     55.0000            30.000   \n",
       "Time degradation                0.0004             0.007   \n",
       "Cycle degradation               0.0000             0.000   \n",
       "Construction time               3.0000             2.000   \n",
       "\n",
       "                          Battery (Lithium-ion)    Hydrogen  \\\n",
       "Name                                                          \n",
       "Investment cost - Power                 156.000    2741.000   \n",
       "Investment cost - Energy                168.000      15.000   \n",
       "Operation cost - Power                   10.000      24.300   \n",
       "Operation cost - Energy                   3.000       1.000   \n",
       "Replacement cost                          0.000       0.000   \n",
       "Replacement interval                   3250.000  200000.000   \n",
       "End-of-life cost                          0.000       0.000   \n",
       "Discount rate                             0.000       0.000   \n",
       "Round-trip efficiency                     0.900       0.400   \n",
       "Self-discharge                            0.010       0.005   \n",
       "Lifetime                               3250.000   20000.000   \n",
       "Shelf life                               13.000      18.000   \n",
       "Time degradation                          0.017       0.013   \n",
       "Cycle degradation                         0.000       0.000   \n",
       "Construction time                         1.000       1.000   \n",
       "\n",
       "                          TES (Molten Salt)  PTES (Rock)  LEAS (Standalone)  \n",
       "Name                                                                         \n",
       "Investment cost - Power            1341.000     1300.000           1700.000  \n",
       "Investment cost - Energy             18.030       20.000             40.000  \n",
       "Operation cost - Power               10.000        5.000              6.000  \n",
       "Operation cost - Energy               3.500        5.000              4.000  \n",
       "Replacement cost                      0.000        0.000              0.000  \n",
       "Replacement interval              30000.000    16250.000          16250.000  \n",
       "End-of-life cost                      0.000        0.000              0.000  \n",
       "Discount rate                         0.000        0.000              0.000  \n",
       "Round-trip efficiency                 0.450        0.550              0.500  \n",
       "Self-discharge                        0.010        0.010              0.005  \n",
       "Lifetime                          30000.000    16250.000          16250.000  \n",
       "Shelf life                           30.000       30.000             30.000  \n",
       "Time degradation                      0.009        0.007              0.007  \n",
       "Cycle degradation                     0.000        0.000              0.000  \n",
       "Construction time                     1.000        1.000              2.000  "
      ]
     },
     "execution_count": 1,
     "metadata": {},
     "output_type": "execute_result"
    }
   ],
   "source": [
    "import pandas as pd\n",
    "import numpy as np\n",
    "import matplotlib.pyplot as plt\n",
    "import matplotlib\n",
    "\n",
    "import matplotlib as mpl\n",
    "from matplotlib.ticker import MultipleLocator,FormatStrFormatter,MaxNLocator\n",
    "\n",
    "mpl.rcParams['pdf.fonttype'] = 42\n",
    "mpl.rcParams['ps.fonttype'] = 42\n",
    "mpl.rcParams['font.family'] = 'Arial'\n",
    "mpl.rcParams['figure.figsize']\n",
    "\n",
    "\n",
    "\n",
    "Table=pd.read_csv('CostData.csv',sep=';' ,index_col='Name', decimal=\",\") # Read Data Table \n",
    "Table=Table.iloc[:,2:]\n",
    "Table"
   ]
  },
  {
   "cell_type": "markdown",
   "id": "16bed856-358e-43d3-9daa-c63bfcc771a6",
   "metadata": {},
   "source": [
    "### Required additional parameters"
   ]
  },
  {
   "cell_type": "code",
   "execution_count": 2,
   "id": "cc0ab59f-0e79-408d-88db-df84dcb56082",
   "metadata": {},
   "outputs": [
    {
     "data": {
      "text/plain": [
       "Pumped Hydro             55.0\n",
       "CAES (Adiabatic)         30.0\n",
       "Battery (Lithium-ion)    13.0\n",
       "Hydrogen                 18.0\n",
       "TES (Molten Salt)        30.0\n",
       "PTES (Rock)              30.0\n",
       "LEAS (Standalone)        30.0\n",
       "Name: Shelf life, dtype: float64"
      ]
     },
     "execution_count": 2,
     "metadata": {},
     "output_type": "execute_result"
    }
   ],
   "source": [
    "Pel=0.02  # Price of electricity per MWh \n",
    "CapnorP=1000; # Power Rating of 1 MW\n",
    "DD=4# Duration of discharge\n",
    "DoD=1 # Depth of Discharge\n",
    "CapnomE=DD*CapnorP  # Storage Energy needed for DOD\n",
    "Cycpa= 365 # Annual Cycles! \n",
    "r=0.07 # Discount Rate \n",
    "Table.loc['Shelf life']"
   ]
  },
  {
   "cell_type": "markdown",
   "id": "bfc59c02-bdf4-4eb6-b327-4d8b0e4ac36e",
   "metadata": {},
   "source": [
    "**Redefinations for table variables** "
   ]
  },
  {
   "cell_type": "code",
   "execution_count": 3,
   "id": "0eeaa3ad-c6bf-495e-b356-33f4ee142a00",
   "metadata": {},
   "outputs": [],
   "source": [
    "CP=Table.loc['Investment cost - Power']\n",
    "CE=Table.loc['Investment cost - Energy']\n",
    "CPOM=Table.loc['Operation cost - Power']\n",
    "CEOM=Table.loc['Operation cost - Energy']\n",
    "RTE=Table.loc['Round-trip efficiency']\n",
    "TDEG=Table.loc['Time degradation']\n",
    "CDEG=Table.loc['Cycle degradation']\n",
    "Effiidle=Table.loc['Self-discharge']\n",
    "Tc=Table.loc['Construction time']\n",
    "FEOL=Table.loc['End-of-life cost']\n",
    "Cyclife=Table.loc['Lifetime']/Table.loc['Shelf life']\n",
    "N=np.minimum(Table.loc['Shelf life'],Cyclife) # Life time is minimum of cycle life and self life"
   ]
  },
  {
   "cell_type": "markdown",
   "id": "848af343-cf02-4573-b727-38c315445d45",
   "metadata": {},
   "source": [
    "## LCOS Formula\n",
    "\n",
    "$LCOS= \\frac{Investmentcost+\\sum_{n=1}^N \\frac{O\\&Mcost }{(1+r)^n}+\\sum_{n=1}^N \\frac{Charging cost }{(1+r)^n}}{\\sum_{n=1}^N \\frac{Discharge cost }{(1+r)^n}} = \\frac{Investmentcost+\\sum_{n=1}^N \\frac{O\\&Mcost }{(1+r)^n}}{\\sum_{n=1}^N \\frac{Discharge cost }{(1+r)^n}}+ \\frac{Pel}{RTE}$\n",
    "\n",
    "= $\\frac{Investment Part+ O\\&M part}{Discharge Part}+ \\frac{Pel}{RTE} $"
   ]
  },
  {
   "cell_type": "markdown",
   "id": "a83d594e-ef8e-4be6-bf00-c24a2608d5d3",
   "metadata": {},
   "source": [
    "### Investment Cost\n",
    "Replacement Cost and Replacement intreval is not used! \n",
    "\n",
    "Investment Part=$CP*CapnorP+CE*CapnomE$"
   ]
  },
  {
   "cell_type": "code",
   "execution_count": 4,
   "id": "32dee41f-6308-4359-a28c-2aaf256dfed8",
   "metadata": {},
   "outputs": [],
   "source": [
    "\n",
    "InvestmentCost=CP*CapnorP+CE*CapnomE \n"
   ]
  },
  {
   "cell_type": "markdown",
   "id": "75be0d3c-eb37-4101-8b51-a735ed73b922",
   "metadata": {},
   "source": [
    "### O&M part\n",
    "O&M cost accounts for power and energy specific operation and maintenance cost (CPOM, CEOM) relative to nominal power capacity and annual charged electricity.\n",
    "\n",
    "$\\sum_{n=1}^N \\frac{O\\&Mcost }{(1+r)^n} = \\sum_{n=1}^N \\frac{CPOM*CapnorP+CEOM (Cycpa*DoD*CapnomE)*(1-CDEG)^{(n-1)*Cycpa}(1-TDEG)^{n-1}}{(1+r)^{n}}$"
   ]
  },
  {
   "cell_type": "code",
   "execution_count": null,
   "id": "91f0e96c-c645-4350-be48-8b8c0164ef23",
   "metadata": {},
   "outputs": [],
   "source": []
  },
  {
   "cell_type": "code",
   "execution_count": 5,
   "id": "056875c6-bf8b-4e65-b23b-fab59589dcc1",
   "metadata": {},
   "outputs": [],
   "source": [
    "OAM=[]\n",
    "for i in range(len(N)):\n",
    "    OAMp=sum((CPOM[i]*CapnorP+CEOM[i]/1000*(Cycpa*DoD*CapnomE)*(1-CDEG[i])**((n-1)*Cycpa)*(1-TDEG[i])**(n-1))/((1+r)**(n)) for n in range(0,int(N[i])))\n",
    "    OAM.append(OAMp)\n",
    "OAM=pd.Series(data=OAM, index=InvestmentCost.index.tolist())"
   ]
  },
  {
   "cell_type": "markdown",
   "id": "42518daa-14b1-4dcb-8fd3-f00e3934f57d",
   "metadata": {},
   "source": [
    "### End of life part \n",
    "This is not used in this calculation"
   ]
  },
  {
   "cell_type": "code",
   "execution_count": 6,
   "id": "2131ebed-0883-4c2f-b3c0-efeb811efc3e",
   "metadata": {},
   "outputs": [],
   "source": [
    "EndofLife=(CP*CapnorP+CE*CapnomE)*FEOL/(1+r)**(N+1)"
   ]
  },
  {
   "cell_type": "markdown",
   "id": "41d0a564-9399-4d7e-a296-5d6184074fe1",
   "metadata": {},
   "source": [
    "### Self discharge\n",
    "Self-discharge (effiself) for each technology and application is approximated by accounting for the daily self-discharge at idle state of the technology, and the application’s annual cycle and discharge duration (DD) requirement. This equation describes the maximum influence of self-discharge, assuming the device is always fully charged when idle between cycles. Minimum self discharge would occour when storage was fully discharged during idle operation. \n",
    "\n",
    "effiself=$Effiidle \\frac{8760-2*Cycpa*DD}{Cycpa}$"
   ]
  },
  {
   "cell_type": "code",
   "execution_count": 7,
   "id": "6615ee3e-8df1-40b9-b7ef-6a12b5a255b8",
   "metadata": {},
   "outputs": [],
   "source": [
    "effiself=Effiidle*(8760-2*Cycpa*DD)/Cycpa # \n"
   ]
  },
  {
   "cell_type": "markdown",
   "id": "4db4cef2-e6bc-41bb-bc25-fd647a026338",
   "metadata": {},
   "source": [
    "### Discharge part\n",
    "Discharged electricity accounts for annual cycles (Cycpa), nominal energy capacity (CapnomE), depth-of-discharge (DoD),round-trip efficiency (RTE), cycle degradation (CDEG), time degradation (TDEG), self-discharge (effiself), and construction time of the technology (Tc =0).\n",
    "\n",
    "$\\sum_{n=1}^N \\frac{Discharge cost }{(1+r)^n} =Cycpa*DoD*CapnomE*RTE*(1-effiself)+ \\sum_{n=1}^N \\frac{(1-CDEG)^{(n-1)*Cycpa}*(1-TDEG)^{n-1}}{(1+r)^n} $\n"
   ]
  },
  {
   "cell_type": "code",
   "execution_count": 8,
   "id": "cd4a6644-d9b6-4680-bdc5-59bc321b18b1",
   "metadata": {},
   "outputs": [],
   "source": [
    "DischargeA=Cycpa*DoD*CapnomE*RTE*(1-effiself)\n",
    "DischargeB=[]\n",
    "for i in range(len(N)):\n",
    "    DischargeBp=sum(((1-CDEG[i])**((n-1)*Cycpa)*(1-TDEG[i])**(n-1))/((1+r)**n) for n in range(0,int(N[i])))\n",
    "    DischargeB.append(DischargeBp)\n",
    "DischargeB=pd.Series(data=DischargeB, index=InvestmentCost.index.tolist())\n",
    "Discharge=DischargeB*DischargeA"
   ]
  },
  {
   "cell_type": "markdown",
   "id": "925e734c-6c16-4201-901f-3b037d3adeeb",
   "metadata": {},
   "source": [
    "### The LCOS calculation \n",
    "LCOS= $\\frac{Investment Part+ O\\&M part}{Discharge Part}+ \\frac{Pel}{RTE} $"
   ]
  },
  {
   "cell_type": "code",
   "execution_count": 9,
   "id": "594612a4-8896-422e-a9f1-cb5130a24fc8",
   "metadata": {},
   "outputs": [
    {
     "data": {
      "text/plain": [
       "Pumped Hydro             119.693744\n",
       "CAES (Adiabatic)         203.105671\n",
       "Battery (Lithium-ion)    125.649318\n",
       "Hydrogen                 622.275396\n",
       "TES (Molten Salt)        281.469088\n",
       "PTES (Rock)              218.663119\n",
       "LEAS (Standalone)        279.653110\n",
       "dtype: float64"
      ]
     },
     "execution_count": 9,
     "metadata": {},
     "output_type": "execute_result"
    }
   ],
   "source": [
    "\n",
    "LCOS2=(InvestmentCost+OAM)/Discharge+ Pel/RTE\n",
    "LCOS2*1000 #(LCOS per MWh)\n"
   ]
  },
  {
   "cell_type": "markdown",
   "id": "543dbc80-b279-46f7-8b62-fb60b54cddbf",
   "metadata": {},
   "source": [
    "# LCOS as a function of required additional parameters"
   ]
  },
  {
   "cell_type": "markdown",
   "id": "9ea11953-878f-4d3c-bbf6-7d92b9963d95",
   "metadata": {},
   "source": [
    "This is the same code as shown above but now as a function!! "
   ]
  },
  {
   "cell_type": "code",
   "execution_count": 10,
   "id": "b8b6def8-171e-4e92-8dee-aaade24c9bb6",
   "metadata": {},
   "outputs": [],
   "source": [
    "def CostofStorage(CapnorP,Cycpa,DD,DoD,Pel,r):\n",
    "    CapnomE=DD*CapnorP  # Storage Energy needed for DOD\n",
    "    InvestmentCost=CP*CapnorP+CE*CapnomE \n",
    "    OAM=[]\n",
    "    for i in range(len(N)):\n",
    "        OAMp=sum((CPOM[i]*CapnorP+CEOM[i]/1000*(Cycpa*DoD*CapnomE)*(1-CDEG[i])**((n-1)*Cycpa)*(1-TDEG[i])**(n-1))/((1+r)**(n)) for n in range(0,int(N[i])))\n",
    "        OAM.append(OAMp)\n",
    "    OAM=pd.Series(data=OAM, index=InvestmentCost.index.tolist())\n",
    "    effiself=Effiidle*(8760-2*Cycpa*DD)/Cycpa # \n",
    "    DischargeA=Cycpa*DoD*CapnomE*RTE*(1-effiself)\n",
    "    DischargeB=[]\n",
    "    for i in range(len(N)):\n",
    "        DischargeBp=sum(((1-CDEG[i])**((n-1)*Cycpa)*(1-TDEG[i])**(n-1))/((1+r)**n) for n in range(0,int(N[i])))\n",
    "        DischargeB.append(DischargeBp)\n",
    "    DischargeB=pd.Series(data=DischargeB, index=InvestmentCost.index.tolist())\n",
    "    Discharge=DischargeB*DischargeA\n",
    "    LCOS=((InvestmentCost+OAM)/Discharge+ Pel/RTE)*1000\n",
    "    return LCOS"
   ]
  },
  {
   "cell_type": "code",
   "execution_count": 11,
   "id": "359d7a2c-6ef0-445b-8084-cc401832de93",
   "metadata": {},
   "outputs": [
    {
     "data": {
      "text/plain": [
       "Pumped Hydro              94.052719\n",
       "CAES (Adiabatic)         166.742035\n",
       "Battery (Lithium-ion)    103.427096\n",
       "Hydrogen                 572.275396\n",
       "TES (Molten Salt)        237.024643\n",
       "PTES (Rock)              182.299482\n",
       "LEAS (Standalone)        239.653110\n",
       "dtype: float64"
      ]
     },
     "execution_count": 11,
     "metadata": {},
     "output_type": "execute_result"
    }
   ],
   "source": [
    "LCOS=CostofStorage(1000,365,4,1,0,0.07)\n",
    "LCOS  # Check the function !!"
   ]
  },
  {
   "cell_type": "markdown",
   "id": "c2502c47-a5be-4c89-9b32-b84dbb48e126",
   "metadata": {},
   "source": [
    " Loop over Cycles with DoD =1, Pel=0.02, r= 0.07"
   ]
  },
  {
   "cell_type": "code",
   "execution_count": 12,
   "id": "6fa3cc52-1f88-4751-82fa-19a81d709812",
   "metadata": {},
   "outputs": [
    {
     "data": {
      "text/plain": [
       "<matplotlib.axes._subplots.AxesSubplot at 0x7fe8094fc820>"
      ]
     },
     "execution_count": 12,
     "metadata": {},
     "output_type": "execute_result"
    },
    {
     "data": {
      "image/png": "[encoded data removed]",
      "text/plain": [
       "<Figure size 432x288 with 1 Axes>"
      ]
     },
     "metadata": {
      "needs_background": "light"
     },
     "output_type": "display_data"
    }
   ],
   "source": [
    "LCOSc=[]\n",
    "Cycles=np.arange(100,365*2)\n",
    "for i in Cycles: \n",
    "    LCOSSp=CostofStorage(1000,i,1,1,0.0,0.07)\n",
    "    LCOSc.append(LCOSSp)\n",
    "# Plot the results!\n",
    "pd.DataFrame(LCOSc).plot()"
   ]
  },
  {
   "cell_type": "markdown",
   "id": "563ec6a0-e854-48ab-8fd1-fca6aff4c787",
   "metadata": {},
   "source": [
    "Loop over duration of discharge "
   ]
  },
  {
   "cell_type": "code",
   "execution_count": 13,
   "id": "6c72f932-1ff2-4d90-976c-382ce6f0d4bd",
   "metadata": {},
   "outputs": [
    {
     "data": {
      "text/plain": [
       "<matplotlib.axes._subplots.AxesSubplot at 0x7fe7e9694e20>"
      ]
     },
     "execution_count": 13,
     "metadata": {},
     "output_type": "execute_result"
    },
    {
     "data": {
      "image/png": "[encoded data removed]",
      "text/plain": [
       "<Figure size 432x288 with 1 Axes>"
      ]
     },
     "metadata": {
      "needs_background": "light"
     },
     "output_type": "display_data"
    }
   ],
   "source": [
    "LCOSd=[]\n",
    "DD=np.arange(1,25)\n",
    "for i in DD: \n",
    "    LCOSSp=CostofStorage(1000,100,i,1,0.0,0.07)\n",
    "    LCOSd.append(LCOSSp)\n",
    "# Plot the results!\n",
    "pd.DataFrame(LCOSd).plot()"
   ]
  },
  {
   "cell_type": "markdown",
   "id": "8563850e-271f-4c81-a006-b7a9f9d5cdec",
   "metadata": {},
   "source": [
    "## Surface plot for Cycles VS Discharge Duration"
   ]
  },
  {
   "cell_type": "markdown",
   "id": "c146994b-2abb-46a3-af8c-cb23e544af7c",
   "metadata": {},
   "source": [
    "#### create surface to plot "
   ]
  },
  {
   "cell_type": "code",
   "execution_count": 14,
   "id": "377562b5-6fcd-440c-88d3-d46ca8d8a55b",
   "metadata": {},
   "outputs": [],
   "source": [
    "x = np.arange(1,400,2)  # x is cycles \n",
    "y = np.arange(50,0,-.25)   # y is Discharge duration   \n",
    "X, Y = np.meshgrid(x, y)\n",
    "# Cycle cannot be more than 8760/(DD*2) \n",
    "ind=X>(8760/(Y*3)) # For better Visual "
   ]
  },
  {
   "cell_type": "code",
   "execution_count": null,
   "id": "9ddeb93e-e1bb-490c-bf26-116524933868",
   "metadata": {},
   "outputs": [],
   "source": [
    "Cost=[]\n",
    "for i in np.arange(len(X.flatten())):\n",
    "    Costp=CostofStorage(10000,X.flatten()[i],Y.flatten()[i],1,0.0,0.07)\n",
    "    Cost.append(Costp)"
   ]
  },
  {
   "cell_type": "markdown",
   "id": "5ae81651-dfa1-4ec0-a6d1-2c972bc93592",
   "metadata": {},
   "source": [
    "Remove unrealistic data"
   ]
  },
  {
   "cell_type": "code",
   "execution_count": null,
   "id": "ee6445d3-4f43-417b-94d1-3312d25a1b42",
   "metadata": {},
   "outputs": [],
   "source": [
    "Z= np.reshape(Cost, (x.size,x.size,7)) \n",
    "Z[:,:,1].shape\n",
    "Z[Z<0]='NaN'\n",
    "Z[ind]='NaN'\n",
    "X, Y = np.meshgrid(x, y)\n",
    "cmap = matplotlib.cm.get_cmap(\"jet\", 10)"
   ]
  },
  {
   "cell_type": "markdown",
   "id": "ed9ee6dc-354e-4e38-bff1-85885191e12a",
   "metadata": {},
   "source": [
    "### The figure "
   ]
  },
  {
   "cell_type": "code",
   "execution_count": null,
   "id": "a9b866dc-4830-484a-98f6-60e022ed1ac3",
   "metadata": {},
   "outputs": [],
   "source": [
    "fig, axs = plt.subplots(2,4, figsize=(8, 5), facecolor='w', edgecolor='k', sharey=True, )\n",
    "fig.subplots_adjust(hspace = .4, wspace=.4)\n",
    "axs = axs.ravel()\n",
    "Name=list(Table.columns)\n",
    "for i in range(7):\n",
    "    c=axs[i].pcolor(X, Y,Z[:,:,i], cmap=cmap,vmin=0, vmax=1000)\n",
    "    axs[i].set_title(Name[i])\n",
    "    axs[i].grid()\n",
    "    #axs[i].set_xscale('log')\n",
    "fig.colorbar( c,shrink=1, aspect=10)\n",
    "for ax in axs:\n",
    "    ax.set_xlabel('Cycles per year')\n",
    "    ax.set_ylabel('Discharge duration (h)')\n",
    "\n",
    "axs[7].set_axis_off()\n",
    "\n",
    "plt.tight_layout()\n",
    "plt.savefig('LCOS.png', dpi=600)\n",
    "plt.show()"
   ]
  },
  {
   "cell_type": "markdown",
   "id": "0a935188-0abb-4afd-ab08-e68e7cfa1156",
   "metadata": {},
   "source": [
    "\n"
   ]
  },
  {
   "cell_type": "code",
   "execution_count": null,
   "id": "8ea7e173-56b8-4b91-92ce-7d2460d79824",
   "metadata": {},
   "outputs": [],
   "source": []
  },
  {
   "cell_type": "code",
   "execution_count": null,
   "id": "48df0bd4-2ef0-4341-ac59-173c840c75ae",
   "metadata": {},
   "outputs": [],
   "source": []
  },
  {
   "cell_type": "code",
   "execution_count": null,
   "id": "5b192984-7817-4010-93fb-576a79d61589",
   "metadata": {},
   "outputs": [],
   "source": []
  },
  {
   "cell_type": "code",
   "execution_count": null,
   "id": "e4e3612a-5e02-42a2-8f08-7a1134acc973",
   "metadata": {},
   "outputs": [],
   "source": []
  }
 ],
 "metadata": {
  "kernelspec": {
   "display_name": "Python 3 (ipykernel)",
   "language": "python",
   "name": "python3"
  },
  "language_info": {
   "codemirror_mode": {
    "name": "ipython",
    "version": 3
   },
   "file_extension": ".py",
   "mimetype": "text/x-python",
   "name": "python",
   "nbconvert_exporter": "python",
   "pygments_lexer": "ipython3",
   "version": "3.8.5"
  }
 },
 "nbformat": 4,
 "nbformat_minor": 5
}
